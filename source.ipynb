{
 "cells": [
  {
   "cell_type": "markdown",
   "metadata": {},
   "source": [
    "# CMPE 480 - Project 3\n",
    "\n",
    "M. Akın Elden"
   ]
  },
  {
   "cell_type": "code",
   "execution_count": null,
   "metadata": {},
   "outputs": [],
   "source": [
    "import numpy as np\n",
    "import pandas as pd\n",
    "import matplotlib.pyplot as plt\n",
    "from heapq import heappush, heappop\n",
    "from sklearn import datasets\n",
    "iris_data = datasets.load_iris()"
   ]
  },
  {
   "cell_type": "markdown",
   "metadata": {},
   "source": [
    "The data is reformatted for easier usage"
   ]
  },
  {
   "cell_type": "code",
   "execution_count": null,
   "metadata": {},
   "outputs": [],
   "source": [
    "feature_reformat = lambda st : st.replace(' (cm)', '').replace(' ', '_')\n",
    "feature_names = list(map(feature_reformat, iris_data.feature_names))\n",
    "iris = pd.DataFrame(iris_data.data, columns=feature_names)\n",
    "iris[\"target_class\"] = iris_data.target"
   ]
  },
  {
   "cell_type": "markdown",
   "metadata": {},
   "source": [
    ">**NOTE:** \"Imp\" means impurity for all the fields declared in the code"
   ]
  },
  {
   "cell_type": "markdown",
   "metadata": {},
   "source": [
    "The Node class used to store the decision tree nodes. Each node contains train, validation and test data that fits to the current node. Each one also contains its left and right child nodes if the node is splitted."
   ]
  },
  {
   "cell_type": "code",
   "execution_count": null,
   "metadata": {},
   "outputs": [],
   "source": [
    "class Node:\n",
    "    def __init__(self, trainImpurity, trainData, validationImpurity, validationData):\n",
    "        # Train data stored in that node\n",
    "        self.trainData = trainData\n",
    "        # Stored train data's impurity value\n",
    "        self.trainImp = trainImpurity\n",
    "        grouped = trainData.groupby([\"target_class\"]).count().iloc[:,0]\n",
    "        # Dominant class in the stored train data\n",
    "        self.dominant_class = grouped.idxmax()\n",
    "        self.validationImp = validationImpurity\n",
    "        self.validationData = validationData\n",
    "        self.leftChild = None\n",
    "        self.rightChild = None\n",
    "        self.hasChild = False\n",
    "        # In which layer the node is splitted\n",
    "        self.level = np.inf\n",
    "        self.testData = None\n",
    "        self.testImp = None\n",
    "\n",
    "    def __lt__(self, other):\n",
    "        # The node with higher impurity is prioritized in queue\n",
    "        return self.trainImp > other.trainImp\n",
    "\n",
    "    def assignLevel(self, level):\n",
    "        self.level = level\n",
    "\n",
    "    # Used to split the node and its data with given feature into the childs\n",
    "    def split(self, feature, value, trainImpurities, validationImpurities):\n",
    "        self.splitFeature = feature\n",
    "        self.splitValue = value\n",
    "        self.leftChild = Node(trainImpurities[0], self.trainData[self.trainData[feature]<=value], validationImpurities[0], self.validationData[self.validationData[feature]<=value])\n",
    "        self.rightChild = Node(trainImpurities[1], self.trainData[self.trainData[feature]>value], validationImpurities[1], self.validationData[self.validationData[feature]>value])\n",
    "        self.hasChild = True\n",
    "        del self.trainData, self.validationData # for memory efficiency\n",
    "        return self.leftChild, self.rightChild\n"
   ]
  },
  {
   "cell_type": "code",
   "execution_count": null,
   "metadata": {},
   "outputs": [],
   "source": [
    "def entropy(data):\n",
    "    n = len(data)\n",
    "    probs = data.groupby([\"target_class\"]).count().iloc[:,0] / n\n",
    "    return - np.sum(probs * np.log2(probs))\n",
    "\n",
    "def informationGain(parentImpurity, childrenData):\n",
    "    childEntropies = []\n",
    "    childSizes = []\n",
    "    for i in range(len(childrenData)):\n",
    "        d = childrenData[i]\n",
    "        childEntropies.append(entropy(d))\n",
    "        childSizes.append(len(d))\n",
    "    N = np.sum(childSizes)\n",
    "    if N == 0: # no data given, no improvement\n",
    "        return 0, childEntropies\n",
    "    remainder = np.sum( np.array(childEntropies) * np.array(childSizes) / N )\n",
    "    return parentImpurity - remainder, childEntropies"
   ]
  },
  {
   "cell_type": "code",
   "execution_count": null,
   "metadata": {},
   "outputs": [],
   "source": [
    "def giniIndex(data):\n",
    "    n = len(data)\n",
    "    probs = data.groupby([\"target_class\"]).count().iloc[:,0] / n\n",
    "    return 1 - np.sum(np.square(probs))\n",
    "\n",
    "def giniGain(parentImpurity, childrenData):\n",
    "    childGinis = []\n",
    "    childSizes = []\n",
    "    for i in range(len(childrenData)):\n",
    "        d = childrenData[i]\n",
    "        childGinis.append(giniIndex(d))\n",
    "        childSizes.append(len(d))\n",
    "    N = np.sum(childSizes)\n",
    "    if N == 0: # no data given, no improvement\n",
    "        return 0, childGinis\n",
    "    remainder = np.sum( np.array(childGinis) * np.array(childSizes) / N )\n",
    "    return parentImpurity - remainder, childGinis\n"
   ]
  },
  {
   "cell_type": "markdown",
   "metadata": {},
   "source": [
    "The below function iterates all features and their unique values to determine the best split feature and value."
   ]
  },
  {
   "cell_type": "code",
   "execution_count": null,
   "metadata": {},
   "outputs": [],
   "source": [
    "def findBestSplit(data, parentImp, perfMeasure):\n",
    "    bestFeature = \"\"\n",
    "    bestValue = 0\n",
    "    bestPerf = 0\n",
    "    bestChildImps = []\n",
    "    for c in data.columns[:-1]:\n",
    "        currentData = data[[c, \"target_class\"]]\n",
    "        uniques = currentData[c].unique()\n",
    "        for v in uniques:\n",
    "            leftChild = currentData[currentData[c] <= v]\n",
    "            rightChild = currentData[currentData[c] > v]\n",
    "            performance, childImps = perfMeasure(parentImp, [leftChild, rightChild])\n",
    "            if performance > bestPerf:\n",
    "                bestFeature = c\n",
    "                bestValue = v\n",
    "                bestPerf = performance\n",
    "                bestChildImps = childImps\n",
    "    return bestFeature, bestValue, bestPerf, bestChildImps"
   ]
  },
  {
   "cell_type": "code",
   "execution_count": null,
   "metadata": {},
   "outputs": [],
   "source": [
    "\n",
    "def getImpurityMeasurementFunctions(impurityMeasureName):\n",
    "    impMeasure = None\n",
    "    perfMeasure = None\n",
    "    if impurityMeasureName == \"entropy\":\n",
    "        impMeasure = entropy\n",
    "        perfMeasure = informationGain\n",
    "    elif impurityMeasureName == \"gini\":\n",
    "        impMeasure = giniIndex\n",
    "        perfMeasure = giniGain\n",
    "    else:\n",
    "        raise Exception(\"Invalid impurity measurement\")\n",
    "    return impMeasure, perfMeasure"
   ]
  },
  {
   "cell_type": "code",
   "execution_count": null,
   "metadata": {},
   "outputs": [],
   "source": [
    "def treeGrowth(train, validation, impurityMeasure=\"entropy\"):\n",
    "    # Impurity measurement functions are determined by parameter\n",
    "    impMeasure, perfMeasure = getImpurityMeasurementFunctions(impurityMeasure)\n",
    "    # Each created node is added to a priority queue and\n",
    "    # the one with highest impurity is prioritized\n",
    "    nodeQueue = []\n",
    "    root = Node(impMeasure(train), train, impMeasure(validation), validation)\n",
    "    heappush(nodeQueue, root)\n",
    "    # Impurity measurements by each split is stored in list\n",
    "    totalTrainImp = [impMeasure(train)]\n",
    "    totalValidImp = [impMeasure(validation)]\n",
    "    totalTrainRow = len(train)\n",
    "    totalValidRow = len(validation)\n",
    "    level = 0\n",
    "    while(len(nodeQueue) > 0):\n",
    "        currentNode = heappop(nodeQueue)\n",
    "        if currentNode.trainImp == 0:\n",
    "            break # all nodes are pure\n",
    "        currentNode.assignLevel(level)\n",
    "        feature, value, perf, childImps = findBestSplit(currentNode.trainData, currentNode.trainImp, perfMeasure)\n",
    "        if perf <= 0:\n",
    "            continue # no training performance improvement, don't split the node\n",
    "        leftValidation = currentNode.validationData[currentNode.validationData[feature] <= value]\n",
    "        rightValidation = currentNode.validationData[currentNode.validationData[feature] > value]\n",
    "        validationPerf, childValImps = perfMeasure(currentNode.validationImp, [leftValidation, rightValidation])\n",
    "        totalTrainImp.append(np.round( totalTrainImp[level] - perf * len(currentNode.trainData) / totalTrainRow , 5))\n",
    "        totalValidImp.append( np.round( totalValidImp[level] - validationPerf * len(currentNode.validationData) / totalValidRow , 5)) \n",
    "        leftChild, rightChild = currentNode.split(feature, value, childImps, childValImps)\n",
    "        heappush(nodeQueue, leftChild)\n",
    "        heappush(nodeQueue, rightChild)\n",
    "        level += 1\n",
    "    return root, totalTrainImp, totalValidImp\n"
   ]
  },
  {
   "cell_type": "code",
   "execution_count": null,
   "metadata": {},
   "outputs": [],
   "source": [
    "def predictTestData(test, root, split_number, impurityMeasure=\"entropy\"):\n",
    "    # Starting from the root, children are traversed until given number of split is reached\n",
    "    impMeasure, perfMeasure = getImpurityMeasurementFunctions(impurityMeasure)\n",
    "    totalTestRow = len(test)\n",
    "    root.testData = test\n",
    "    root.testImp = impMeasure(test)\n",
    "    nodeQueue = []\n",
    "    heappush(nodeQueue, (root.level, root))\n",
    "    totalImpurities = [impMeasure(test)]\n",
    "    leaves = [] # includes the leaf data of test and dominant class at that leaf (coming from training)\n",
    "    while len(nodeQueue) > 0:\n",
    "        currentNode = heappop(nodeQueue)[1]\n",
    "        if currentNode.level >= split_number:\n",
    "            if currentNode.testData is not None:\n",
    "                leaves.append( (currentNode.testData, currentNode.dominant_class) )\n",
    "            continue\n",
    "        currentData = currentNode.testData\n",
    "        leftData = currentData[currentData[currentNode.splitFeature] <= currentNode.splitValue]\n",
    "        rightData = currentData[currentData[currentNode.splitFeature] > currentNode.splitValue]\n",
    "        perf, childImps = perfMeasure(currentNode.testImp, [leftData, rightData])\n",
    "        totalImpurities.append(np.round( totalImpurities[currentNode.level] - perf * len(currentNode.testData) / totalTestRow , 5))\n",
    "        leftNode = currentNode.leftChild\n",
    "        rightNode = currentNode.rightChild\n",
    "        leftNode.testData = leftData\n",
    "        leftNode.testImp = childImps[0]\n",
    "        rightNode.testData = rightData\n",
    "        rightNode.testImp = childImps[1]\n",
    "        heappush(nodeQueue, (leftNode.level, leftNode) )\n",
    "        heappush(nodeQueue, (rightNode.level, rightNode) )\n",
    "    # Calculate the accuracy by calculating true estimates\n",
    "    true_estimate = 0\n",
    "    for l in leaves:\n",
    "        # check if leaf data includes the predicted class\n",
    "        if np.any(l[0][\"target_class\"] == l[1]):\n",
    "            true_estimate += l[0].groupby([\"target_class\"]).count().loc[ l[1] ][0]\n",
    "    accuracy = np.array((true_estimate, totalTestRow-true_estimate)).reshape((1,2))\n",
    "    accuracy_table = pd.DataFrame(data=accuracy, columns=[\"True estimate\",\"False estimate\"], index=[\"Count\"])\n",
    "    return totalImpurities, accuracy_table"
   ]
  },
  {
   "cell_type": "code",
   "execution_count": null,
   "metadata": {},
   "outputs": [],
   "source": [
    "def plotImpurityGraph(trainResults, validationResults, testResults, impurityMeasure):\n",
    "    splits = np.arange(len(trainResults))\n",
    "    plt.figure()\n",
    "    plt.plot(splits, trainResults, 'k-', label='Training error')\n",
    "    plt.plot(splits, validationResults, 'b-', label='Validation error')\n",
    "    plt.plot(splits, testResults, 'g-', label='Test error')\n",
    "    plt.xlabel(\"Number of splits\")\n",
    "    plt.xticks(splits, splits)\n",
    "    if impurityMeasure == \"entropy\":\n",
    "        plt.title(\"Loss with information gain\")\n",
    "        plt.ylabel(\"Total entropy\")\n",
    "    elif impurityMeasure == \"gini\":\n",
    "        plt.title(\"Loss with gini impurity\")\n",
    "        plt.ylabel(\"Total gini\")\n",
    "    plt.legend()"
   ]
  },
  {
   "cell_type": "code",
   "execution_count": null,
   "metadata": {},
   "outputs": [],
   "source": [
    "def decisionLearning(data, impurityMeasure=\"entropy\", tr_val_te_ratios=[0.2, 0.4, 0.4], seed=480):\n",
    "    np.random.seed(seed)\n",
    "    shuffled = data.sample(frac=1)\n",
    "    N = len(data)\n",
    "    tr = int(N * tr_val_te_ratios[0])\n",
    "    val = tr + int(N * tr_val_te_ratios[1])\n",
    "    training = shuffled[:tr]\n",
    "    validation = shuffled[tr:val]\n",
    "    test = shuffled[val:]\n",
    "    root, trainImps, validImps = treeGrowth(training, validation, impurityMeasure)\n",
    "    # Get the max number of splits which gives the minimum validation error\n",
    "    split_number = np.where(validImps == min(validImps))[0].max()\n",
    "    testImps, accuracy = predictTestData(test, root, split_number, impurityMeasure)\n",
    "    plotImpurityGraph(trainImps, validImps, testImps, impurityMeasure)\n",
    "    return (root, trainImps, validImps, testImps, accuracy)"
   ]
  },
  {
   "cell_type": "code",
   "execution_count": null,
   "metadata": {},
   "outputs": [
    {
     "data": {
      "text/html": [
       "<div>\n",
       "<style scoped>\n",
       "    .dataframe tbody tr th:only-of-type {\n",
       "        vertical-align: middle;\n",
       "    }\n",
       "\n",
       "    .dataframe tbody tr th {\n",
       "        vertical-align: top;\n",
       "    }\n",
       "\n",
       "    .dataframe thead th {\n",
       "        text-align: right;\n",
       "    }\n",
       "</style>\n",
       "<table border=\"1\" class=\"dataframe\">\n",
       "  <thead>\n",
       "    <tr style=\"text-align: right;\">\n",
       "      <th></th>\n",
       "      <th>True estimate</th>\n",
       "      <th>False estimate</th>\n",
       "    </tr>\n",
       "  </thead>\n",
       "  <tbody>\n",
       "    <tr>\n",
       "      <th>Count</th>\n",
       "      <td>49</td>\n",
       "      <td>11</td>\n",
       "    </tr>\n",
       "  </tbody>\n",
       "</table>\n",
       "</div>"
      ],
      "text/plain": [
       "       True estimate  False estimate\n",
       "Count             49              11"
      ]
     },
     "execution_count": null,
     "metadata": {},
     "output_type": "execute_result"
    },
    {
     "data": {
      "image/png": "[encoded data removed]",
      "text/plain": [
       "<Figure size 432x288 with 1 Axes>"
      ]
     },
     "metadata": {
      "needs_background": "light"
     },
     "output_type": "display_data"
    }
   ],
   "source": [
    "results = decisionLearning(iris, seed=7)\n",
    "results[-1]"
   ]
  }
 ],
 "metadata": {
  "file_extension": ".py",
  "kernelspec": {
   "display_name": "Python 3",
   "language": "python",
   "name": "python3"
  },
  "language_info": {
   "codemirror_mode": {
    "name": "ipython",
    "version": 3
   },
   "file_extension": ".py",
   "mimetype": "text/x-python",
   "name": "python",
   "nbconvert_exporter": "python",
   "pygments_lexer": "ipython3",
   "version": "3.7.1"
  },
  "mimetype": "text/x-python",
  "name": "python",
  "npconvert_exporter": "python",
  "pygments_lexer": "ipython3",
  "version": 3
 },
 "nbformat": 4,
 "nbformat_minor": 2
}
